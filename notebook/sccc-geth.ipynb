{
 "cells": [
  {
   "cell_type": "markdown",
   "metadata": {},
   "source": [
    "# Smart Contract Crash Course "
   ]
  },
  {
   "cell_type": "markdown",
   "metadata": {},
   "source": [
    "## Basic interaction with `geth`"
   ]
  },
  {
   "cell_type": "markdown",
   "metadata": {},
   "source": [
    "The most common client lib to interface with ethereum execution clients (`geth`,`ganache`,...) is **web3**.\n",
    "* [web3.js](https://github.com/ethereum/web3.js/)\n",
    "    - node.js version\n",
    "    - [API](https://web3js.readthedocs.io/)\n",
    "* [web3py](https://github.com/ethereum/web3.py)\n",
    "    - python version\n",
    "    - as I prefer python, we will use this one ;)\n",
    "    - [API](https://web3py.readthedocs.io/)\n",
    "    \n",
    "For this tutorial we will only interact with `geth`: \n",
    "* [geth console](https://geth.ethereum.org/docs/interface/javascript-console) has a link to the supported API via the geth console, which should be the \"full\" `web3.js` API.\n",
    "* [geth cli options](https://geth.ethereum.org/docs/interface/command-line-options) only needed when running geth from the command line"
   ]
  },
  {
   "cell_type": "markdown",
   "metadata": {},
   "source": [
    "## Connect via RPC/HTTP"
   ]
  },
  {
   "cell_type": "markdown",
   "metadata": {},
   "source": [
    "Note that in our case `geth` is running in a private PoA chain setup.\n",
    "Therefore, some configuration parameters are different. "
   ]
  },
  {
   "cell_type": "markdown",
   "metadata": {},
   "source": [
    "https://web3py.readthedocs.io/en/stable/middleware.html#geth-style-proof-of-authority"
   ]
  },
  {
   "cell_type": "code",
   "execution_count": 3,
   "metadata": {},
   "outputs": [],
   "source": [
    "import web3\n",
    "#from web3.middleware import geth_poa_middleware\n",
    "from web3.middleware import ExtraDataToPOAMiddleware\n",
    "\n",
    "w3 = web3.Web3(web3.Web3.HTTPProvider(\"http://geth-client-cnt:8545\"))\n",
    "# check if connection was successful\n",
    "assert w3.is_connected()\n",
    "\n",
    "#w3.middleware_onion.inject(geth_poa_middleware, layer=0)\n",
    "w3.middleware_onion.inject(ExtraDataToPOAMiddleware, layer=0)"
   ]
  },
  {
   "cell_type": "code",
   "execution_count": 4,
   "metadata": {},
   "outputs": [
    {
     "data": {
      "text/plain": [
       "AttributeDict({'id': 'db832982d0c930004ca7ffb9de82edc6ef126b6de2ab6d5f6dd366b21b22133c',\n",
       " 'name': 'Geth/bob/v1.10.3-stable-991384a7/linux-amd64/go1.21.5',\n",
       " 'enode': 'enode://013b8e961926389536c0a9ee90cc70a9884a04ca050f314e1a8877f177a96c8ebac0efb50313633b63a2909ad10cd2c4e0c7db6828f51feeb4ac059ac5ee9ad5@127.0.0.1:30303?discport=0',\n",
       " 'enr': 'enr:-Ja4QCdrJY4FgYZiwlbvYMYQTgPYb-NGIWDdm5Ls5N4gHtx5WKLHSW7XRrTCcjkt8ave2cw5JV8w6lxRnrynQb2kf6wBg2V0aMfGhL8tJ2SAgmlkgnY0gmlwhH8AAAGJc2VjcDI1NmsxoQMBO46WGSY4lTbAqe6QzHCpiEoEygUPMU4aiHfxd6lsjoRzbmFwwIN0Y3CCdl8',\n",
       " 'ip': '127.0.0.1',\n",
       " 'ports': AttributeDict({'discovery': 0, 'listener': 30303}),\n",
       " 'listenAddr': '[::]:30303',\n",
       " 'protocols': AttributeDict({'eth': AttributeDict({'network': 20240101,\n",
       "   'difficulty': 1,\n",
       "   'genesis': '0x6bec1279ca6efde179db76897011152e3b1d4c89f11298b501a501511fa016b8',\n",
       "   'config': AttributeDict({'chainId': 20240101,\n",
       "    'homesteadBlock': 0,\n",
       "    'eip150Block': 0,\n",
       "    'eip150Hash': '0x0000000000000000000000000000000000000000000000000000000000000000',\n",
       "    'eip155Block': 0,\n",
       "    'eip158Block': 0,\n",
       "    'byzantiumBlock': 0,\n",
       "    'constantinopleBlock': 0,\n",
       "    'petersburgBlock': 0,\n",
       "    'istanbulBlock': 0,\n",
       "    'berlinBlock': 0,\n",
       "    'clique': AttributeDict({'period': 12, 'epoch': 30000})}),\n",
       "   'head': '0x6bec1279ca6efde179db76897011152e3b1d4c89f11298b501a501511fa016b8'}),\n",
       "  'snap': AttributeDict({})})})"
      ]
     },
     "execution_count": 4,
     "metadata": {},
     "output_type": "execute_result"
    }
   ],
   "source": [
    "w3.geth.admin.node_info()"
   ]
  },
  {
   "cell_type": "code",
   "execution_count": 3,
   "metadata": {},
   "outputs": [
    {
     "data": {
      "text/plain": [
       "'Geth/bob/v1.10.3-stable-991384a7/linux-amd64/go1.21.5'"
      ]
     },
     "execution_count": 3,
     "metadata": {},
     "output_type": "execute_result"
    }
   ],
   "source": [
    "# display the client version of the node we are connected to\n",
    "w3.client_version"
   ]
  },
  {
   "cell_type": "code",
   "execution_count": 4,
   "metadata": {},
   "outputs": [
    {
     "data": {
      "text/plain": [
       "'20240101'"
      ]
     },
     "execution_count": 4,
     "metadata": {},
     "output_type": "execute_result"
    }
   ],
   "source": [
    "# display network ID of client you are connected to\n",
    "w3.net.version"
   ]
  },
  {
   "cell_type": "code",
   "execution_count": 5,
   "metadata": {},
   "outputs": [
    {
     "data": {
      "text/plain": [
       "20240101"
      ]
     },
     "execution_count": 5,
     "metadata": {},
     "output_type": "execute_result"
    }
   ],
   "source": [
    "w3.eth.chain_id"
   ]
  },
  {
   "cell_type": "code",
   "execution_count": 6,
   "metadata": {},
   "outputs": [
    {
     "data": {
      "text/plain": [
       "1"
      ]
     },
     "execution_count": 6,
     "metadata": {},
     "output_type": "execute_result"
    }
   ],
   "source": [
    "# Display number of connected peers should be 1\n",
    "w3.net.peer_count"
   ]
  },
  {
   "cell_type": "code",
   "execution_count": 7,
   "metadata": {},
   "outputs": [
    {
     "data": {
      "text/plain": [
       "False"
      ]
     },
     "execution_count": 7,
     "metadata": {},
     "output_type": "execute_result"
    }
   ],
   "source": [
    "# check if node is \"up-to-date\" with blockchain, \n",
    "# i.e., not syncing anymore\n",
    "w3.eth.syncing"
   ]
  },
  {
   "cell_type": "code",
   "execution_count": 8,
   "metadata": {
    "scrolled": true
   },
   "outputs": [
    {
     "data": {
      "text/plain": [
       "False"
      ]
     },
     "execution_count": 8,
     "metadata": {},
     "output_type": "execute_result"
    }
   ],
   "source": [
    "w3.eth.mining"
   ]
  },
  {
   "cell_type": "markdown",
   "metadata": {},
   "source": [
    "## Connect to enode with IP"
   ]
  },
  {
   "cell_type": "markdown",
   "metadata": {},
   "source": [
    "To connect to a geth node a `enode` ulr is required. This contains a public key of this node as well as its domain name (or IP) and prot. "
   ]
  },
  {
   "cell_type": "markdown",
   "metadata": {},
   "source": [
    "The enode of our server is: \n",
    "`enode://fd90f39e40633934f1613ab08bd4917d3aa28abba28cc4748b544650cfffe1ab40890f4a9d85ca9c0cf28845633291ca06a5716b86f5232b32374b82e2e3cff6@eth-smart.secenv:30303?discport=0`"
   ]
  },
  {
   "cell_type": "code",
   "execution_count": 9,
   "metadata": {},
   "outputs": [],
   "source": [
    "enode = \"enode://fd90f39e40633934f1613ab08bd4917d3aa28abba28cc4748b544650cfffe1ab40890f4a9d85ca9c0cf28845633291ca06a5716b86f5232b32374b82e2e3cff6@eth-smart.secenv:30303?discport=0\""
   ]
  },
  {
   "cell_type": "code",
   "execution_count": 10,
   "metadata": {},
   "outputs": [],
   "source": [
    "#enode = \"enode://fd90f39e40633934f1613ab08bd4917d3aa28abba28cc4748b544650cfffe1ab40890f4a9d85ca9c0cf28845633291ca06a5716b86f5232b32374b82e2e3cff6@10.81.0.38:30303?discport=0\""
   ]
  },
  {
   "cell_type": "code",
   "execution_count": 11,
   "metadata": {},
   "outputs": [
    {
     "data": {
      "text/plain": [
       "True"
      ]
     },
     "execution_count": 11,
     "metadata": {},
     "output_type": "execute_result"
    }
   ],
   "source": [
    "w3.geth.admin.add_peer(enode)"
   ]
  },
  {
   "cell_type": "code",
   "execution_count": 12,
   "metadata": {},
   "outputs": [
    {
     "data": {
      "text/plain": [
       "1"
      ]
     },
     "execution_count": 12,
     "metadata": {},
     "output_type": "execute_result"
    }
   ],
   "source": [
    "w3.net.peer_count"
   ]
  },
  {
   "cell_type": "code",
   "execution_count": 13,
   "metadata": {},
   "outputs": [
    {
     "data": {
      "text/plain": [
       "[AttributeDict({'enode': 'enode://fd90f39e40633934f1613ab08bd4917d3aa28abba28cc4748b544650cfffe1ab40890f4a9d85ca9c0cf28845633291ca06a5716b86f5232b32374b82e2e3cff6@10.81.0.38:30303?discport=0',\n",
       "  'id': '2af0d687348cffa0a8d8e827abd4e1e5f2c68e4beca2dfaa768856a9dbba522e',\n",
       "  'name': 'Geth/alice/v1.10.3-stable-991384a7/linux-amd64/go1.21.5',\n",
       "  'caps': ['eth/65', 'eth/66', 'snap/1'],\n",
       "  'network': AttributeDict({'localAddress': '172.22.0.4:36870',\n",
       "   'remoteAddress': '10.81.0.38:30303',\n",
       "   'inbound': False,\n",
       "   'trusted': False,\n",
       "   'static': True}),\n",
       "  'protocols': AttributeDict({'eth': AttributeDict({'version': 66,\n",
       "    'difficulty': 3233,\n",
       "    'head': '0x00b6fafac72ce9c056c9286aa3d7c1fa5bfa9274170b103ac11c5d4a0ddbcce3'}),\n",
       "   'snap': AttributeDict({'version': 1})})})]"
      ]
     },
     "execution_count": 13,
     "metadata": {},
     "output_type": "execute_result"
    }
   ],
   "source": [
    "w3.geth.admin.peers()"
   ]
  },
  {
   "cell_type": "markdown",
   "metadata": {},
   "source": [
    "To manually extract the enode from a running geth node, cat the `nodekey` file which contains the private key  and use the `bootnode` tool to generate the associated public key, i.e., enode. (see )\n",
    "\n",
    "```bash\n",
    "$ cat $DATADIR/geth/nodekey\n",
    "$ bootnode -nodekeyhex $(cat $DATADIR/geth/nodekey) -writeaddress\n",
    "```"
   ]
  },
  {
   "cell_type": "code",
   "execution_count": 14,
   "metadata": {},
   "outputs": [
    {
     "data": {
      "text/plain": [
       "False"
      ]
     },
     "execution_count": 14,
     "metadata": {},
     "output_type": "execute_result"
    }
   ],
   "source": [
    "w3.eth.syncing"
   ]
  },
  {
   "cell_type": "markdown",
   "metadata": {},
   "source": [
    "## Blocks"
   ]
  },
  {
   "cell_type": "code",
   "execution_count": 15,
   "metadata": {},
   "outputs": [
    {
     "data": {
      "text/plain": [
       "1618"
      ]
     },
     "execution_count": 15,
     "metadata": {},
     "output_type": "execute_result"
    }
   ],
   "source": [
    "# return current blockchain head of node\n",
    "w3.eth.block_number"
   ]
  },
  {
   "cell_type": "code",
   "execution_count": 16,
   "metadata": {},
   "outputs": [
    {
     "data": {
      "text/plain": [
       "1619"
      ]
     },
     "execution_count": 16,
     "metadata": {},
     "output_type": "execute_result"
    }
   ],
   "source": [
    "# should be greater\n",
    "!sleep 16\n",
    "w3.eth.block_number"
   ]
  },
  {
   "cell_type": "code",
   "execution_count": 17,
   "metadata": {},
   "outputs": [
    {
     "data": {
      "text/plain": [
       "AttributeDict({'difficulty': 1,\n",
       " 'proofOfAuthorityData': HexBytes('0x0000000000000000000000000000000000000000000000000000000000000000f78342e0cdb2188e3b5c9663b1c6d6d5af68bc970000000000000000000000000000000000000000000000000000000000000000000000000000000000000000000000000000000000000000000000000000000000'),\n",
       " 'gasLimit': 15000000,\n",
       " 'gasUsed': 0,\n",
       " 'hash': HexBytes('0x6bec1279ca6efde179db76897011152e3b1d4c89f11298b501a501511fa016b8'),\n",
       " 'logsBloom': HexBytes('0x00000000000000000000000000000000000000000000000000000000000000000000000000000000000000000000000000000000000000000000000000000000000000000000000000000000000000000000000000000000000000000000000000000000000000000000000000000000000000000000000000000000000000000000000000000000000000000000000000000000000000000000000000000000000000000000000000000000000000000000000000000000000000000000000000000000000000000000000000000000000000000000000000000000000000000000000000000000000000000000000000000000000000000000000000000000'),\n",
       " 'miner': '0x0000000000000000000000000000000000000000',\n",
       " 'mixHash': HexBytes('0x0000000000000000000000000000000000000000000000000000000000000000'),\n",
       " 'nonce': HexBytes('0x0000000000000000'),\n",
       " 'number': 0,\n",
       " 'parentHash': HexBytes('0x0000000000000000000000000000000000000000000000000000000000000000'),\n",
       " 'receiptsRoot': HexBytes('0x56e81f171bcc55a6ff8345e692c0f86e5b48e01b996cadc001622fb5e363b421'),\n",
       " 'sha3Uncles': HexBytes('0x1dcc4de8dec75d7aab85b567b6ccd41ad312451b948a7413f0a142fd40d49347'),\n",
       " 'size': 626,\n",
       " 'stateRoot': HexBytes('0x722a93bfdc34bd72e4f0177428465c1fc9fee96a41808689e63556f84508bfd5'),\n",
       " 'timestamp': 1582023590,\n",
       " 'totalDifficulty': 1,\n",
       " 'transactions': [],\n",
       " 'transactionsRoot': HexBytes('0x56e81f171bcc55a6ff8345e692c0f86e5b48e01b996cadc001622fb5e363b421'),\n",
       " 'uncles': []})"
      ]
     },
     "execution_count": 17,
     "metadata": {},
     "output_type": "execute_result"
    }
   ],
   "source": [
    "# block 0 ist the genesis block of this testnet blockchain\n",
    "genesis_block = w3.eth.get_block(0)\n",
    "genesis_block"
   ]
  },
  {
   "cell_type": "markdown",
   "metadata": {},
   "source": [
    "As you see, the genesis block is special as it is the only block with no parent hash:"
   ]
  },
  {
   "cell_type": "code",
   "execution_count": 18,
   "metadata": {},
   "outputs": [
    {
     "data": {
      "text/plain": [
       "0"
      ]
     },
     "execution_count": 18,
     "metadata": {},
     "output_type": "execute_result"
    }
   ],
   "source": [
    "genesis_block['number']"
   ]
  },
  {
   "cell_type": "code",
   "execution_count": 19,
   "metadata": {},
   "outputs": [
    {
     "data": {
      "text/plain": [
       "HexBytes('0x0000000000000000000000000000000000000000000000000000000000000000')"
      ]
     },
     "execution_count": 19,
     "metadata": {},
     "output_type": "execute_result"
    }
   ],
   "source": [
    "genesis_block['parentHash']"
   ]
  },
  {
   "cell_type": "markdown",
   "metadata": {},
   "source": [
    "The [genesis.json](../genesis_config/go-ethereum/berlin/genesis.json) file shows the node(s) that are allowed to mine blocks and the accounts that have been seeded with coins. \n",
    "The client we are currently connected to is not part of the PoA nodes that are allowed to create new blocks:"
   ]
  },
  {
   "cell_type": "markdown",
   "metadata": {},
   "source": [
    "## Accounts and balances"
   ]
  },
  {
   "cell_type": "markdown",
   "metadata": {},
   "source": [
    "Accounts are your **external accounts** consisting of public and private keys. \n",
    "The ethereum address are the last 40 hex characters (20 bytes) of the hash (Keccak-256) of the public key prefixed with `0x`\n",
    "\n",
    "For the exercise you will recieve your personal account keypair which you have to copy in your `geth` folder to import it. "
   ]
  },
  {
   "cell_type": "code",
   "execution_count": 20,
   "metadata": {},
   "outputs": [
    {
     "name": "stdout",
     "output_type": "stream",
     "text": [
      "/smartenv\n"
     ]
    }
   ],
   "source": [
    "!pwd"
   ]
  },
  {
   "cell_type": "code",
   "execution_count": 21,
   "metadata": {},
   "outputs": [
    {
     "name": "stdout",
     "output_type": "stream",
     "text": [
      "Containerfile\t       geth\t\t sccc-geth.ipynb   solutions\n",
      "connection_test.ipynb  requirements.txt  sccc-intro.ipynb  util\n",
      "entrypoint.sh\t       sccc-anvil.ipynb  setup\t\t   venv\n"
     ]
    }
   ],
   "source": [
    "!ls "
   ]
  },
  {
   "cell_type": "code",
   "execution_count": 25,
   "metadata": {},
   "outputs": [],
   "source": [
    "KEYSTORE_DIR = \"/keystore\""
   ]
  },
  {
   "cell_type": "code",
   "execution_count": 26,
   "metadata": {},
   "outputs": [
    {
     "name": "stdout",
     "output_type": "stream",
     "text": [
      "UTC--2024-01-17T17-06-29.575108Z--53B30788b6a47261be56a851C22B155cd3b84735\n"
     ]
    }
   ],
   "source": [
    "!ls {KEYSTORE_DIR}"
   ]
  },
  {
   "cell_type": "code",
   "execution_count": 27,
   "metadata": {},
   "outputs": [
    {
     "data": {
      "text/plain": [
       "['0x53B30788b6a47261be56a851C22B155cd3b84735']"
      ]
     },
     "execution_count": 27,
     "metadata": {},
     "output_type": "execute_result"
    }
   ],
   "source": [
    "w3.eth.accounts"
   ]
  },
  {
   "cell_type": "markdown",
   "metadata": {},
   "source": [
    "The default address (also used to receive rewards from mining blocks) is usually the first in the list of accounts and usually also accessible via `w3.eth.coinbase`. It is good practise to specifically assing a `default_account` some functions might cause problems if this is not explicitly assigned."
   ]
  },
  {
   "cell_type": "code",
   "execution_count": 29,
   "metadata": {},
   "outputs": [
    {
     "data": {
      "text/plain": [
       "'0x53B30788b6a47261be56a851C22B155cd3b84735'"
      ]
     },
     "execution_count": 29,
     "metadata": {},
     "output_type": "execute_result"
    }
   ],
   "source": [
    "w3.eth.default_account = w3.eth.accounts[0]\n",
    "w3.eth.default_account "
   ]
  },
  {
   "cell_type": "code",
   "execution_count": 51,
   "metadata": {},
   "outputs": [
    {
     "data": {
      "text/plain": [
       "14999979000000000000"
      ]
     },
     "execution_count": 51,
     "metadata": {},
     "output_type": "execute_result"
    }
   ],
   "source": [
    "# show balance in wei\n",
    "w3.eth.get_balance(w3.eth.default_account)"
   ]
  },
  {
   "cell_type": "code",
   "execution_count": 58,
   "metadata": {},
   "outputs": [],
   "source": [
    "# show balance in ether\n",
    "def getBalance(address):\n",
    "    return w3.from_wei(w3.eth.get_balance(address),'ether')"
   ]
  },
  {
   "cell_type": "code",
   "execution_count": 57,
   "metadata": {},
   "outputs": [
    {
     "data": {
      "text/plain": [
       "Decimal('14.999979')"
      ]
     },
     "execution_count": 57,
     "metadata": {},
     "output_type": "execute_result"
    }
   ],
   "source": [
    "initial_balance = getBalance(w3.eth.accounts[0]) \n",
    "assert initial_balance > 0 \n",
    "initial_balance"
   ]
  },
  {
   "cell_type": "markdown",
   "metadata": {},
   "source": [
    "### Create New Account"
   ]
  },
  {
   "cell_type": "markdown",
   "metadata": {},
   "source": [
    "Create a new account with no password using geth directly:"
   ]
  },
  {
   "cell_type": "code",
   "execution_count": 40,
   "metadata": {},
   "outputs": [
    {
     "name": "stdout",
     "output_type": "stream",
     "text": [
      "\u001b[32mINFO \u001b[0m[01-17|20:09:55.209] Maximum peer count                       \u001b[32mETH\u001b[0m=0 \u001b[32mLES\u001b[0m=0 \u001b[32mtotal\u001b[0m=0\n",
      "\u001b[32mINFO \u001b[0m[01-17|20:09:55.212] Smartcard socket not found, disabling    \u001b[32merr\u001b[0m=\"stat /run/pcscd/pcscd.comm: no such file or directory\"\n",
      "\n",
      "Your new key was generated\n",
      "\n",
      "Public address of the key:   0x06F2542FA3D541f33A7ea33772666dA16Cb2e86a\n",
      "Path of the secret key file: /keystore/UTC--2024-01-17T20-09-55.212535092Z--06f2542fa3d541f33a7ea33772666da16cb2e86a\n",
      "\n",
      "- You can share your public address with anyone. Others need it to interact with you.\n",
      "- You must NEVER share the secret key with anyone! The key controls access to your funds!\n",
      "- You must BACKUP your key file! Without the key, it's impossible to access account funds!\n",
      "- You must REMEMBER your password! Without the password, it's impossible to decrypt the key!\n",
      "\n"
     ]
    }
   ],
   "source": [
    "!geth --maxpeers 0 --datadir=/ --password=/dev/null account new"
   ]
  },
  {
   "cell_type": "markdown",
   "metadata": {},
   "source": [
    "It requires some time till geth picks up the new key:"
   ]
  },
  {
   "cell_type": "code",
   "execution_count": 41,
   "metadata": {},
   "outputs": [],
   "source": [
    "!sleep 5"
   ]
  },
  {
   "cell_type": "code",
   "execution_count": 42,
   "metadata": {},
   "outputs": [
    {
     "data": {
      "text/plain": [
       "['0x53B30788b6a47261be56a851C22B155cd3b84735',\n",
       " '0x06F2542FA3D541f33A7ea33772666dA16Cb2e86a']"
      ]
     },
     "execution_count": 42,
     "metadata": {},
     "output_type": "execute_result"
    }
   ],
   "source": [
    "w3.eth.accounts"
   ]
  },
  {
   "cell_type": "markdown",
   "metadata": {},
   "source": [
    "## Payment Transaction and Gas"
   ]
  },
  {
   "cell_type": "markdown",
   "metadata": {},
   "source": [
    "**Note:** When connected to `geth` or `parity` you have to unlock an account first to send a transaction since the private keys are stored encrypted per default and protected with a password. In `anvil` this is not necessary since it is a development environment.\n",
    "\n",
    "Per default unlocking an account via HTTP is not allowed in `geth` so this has to be explicitly activated \n",
    "with `--allow-insecure-unlock` when starting `geth`. Do not use this flag in production! "
   ]
  },
  {
   "cell_type": "code",
   "execution_count": 44,
   "metadata": {},
   "outputs": [
    {
     "data": {
      "text/plain": [
       "True"
      ]
     },
     "execution_count": 44,
     "metadata": {},
     "output_type": "execute_result"
    }
   ],
   "source": [
    "# Parameters are:\n",
    "# * account\n",
    "# * password\n",
    "# * duration of unlock (if 0 then forever)\n",
    "w3.geth.personal.unlock_account(w3.eth.accounts[0],\"password\",0)"
   ]
  },
  {
   "cell_type": "code",
   "execution_count": 63,
   "metadata": {},
   "outputs": [
    {
     "data": {
      "text/plain": [
       "1671"
      ]
     },
     "execution_count": 63,
     "metadata": {},
     "output_type": "execute_result"
    }
   ],
   "source": [
    "blkNumber_before = w3.eth.block_number\n",
    "blkNumber_before"
   ]
  },
  {
   "cell_type": "code",
   "execution_count": 71,
   "metadata": {},
   "outputs": [
    {
     "data": {
      "text/plain": [
       "HexBytes('0xd942d23fe537f8632d585a81c8df175f9c5efd8962d1bed8d7c85e989d729ffa')"
      ]
     },
     "execution_count": 71,
     "metadata": {},
     "output_type": "execute_result"
    }
   ],
   "source": [
    "w3.eth.send_transaction({'from':w3.eth.accounts[0], \n",
    "                        'to':w3.eth.accounts[1], \n",
    "                        'value':10**18})"
   ]
  },
  {
   "cell_type": "code",
   "execution_count": 72,
   "metadata": {},
   "outputs": [
    {
     "data": {
      "text/plain": [
       "1675"
      ]
     },
     "execution_count": 72,
     "metadata": {},
     "output_type": "execute_result"
    }
   ],
   "source": [
    "!sleep 13\n",
    "blkNumber_after = w3.eth.block_number\n",
    "assert blkNumber_before < blkNumber_after\n",
    "blkNumber_after"
   ]
  },
  {
   "cell_type": "code",
   "execution_count": 73,
   "metadata": {},
   "outputs": [
    {
     "data": {
      "text/plain": [
       "Decimal('12.999937')"
      ]
     },
     "execution_count": 73,
     "metadata": {},
     "output_type": "execute_result"
    }
   ],
   "source": [
    "# the balance is reduced by more than 1 ether\n",
    "# Why do you think this is the case?\n",
    "getBalance(w3.eth.accounts[0])"
   ]
  },
  {
   "cell_type": "code",
   "execution_count": 74,
   "metadata": {},
   "outputs": [
    {
     "data": {
      "text/plain": [
       "3"
      ]
     },
     "execution_count": 74,
     "metadata": {},
     "output_type": "execute_result"
    }
   ],
   "source": [
    "new_account_balance = getBalance(w3.eth.accounts[1])\n",
    "assert int(new_account_balance) >= 1\n",
    "int(new_account_balance)"
   ]
  },
  {
   "cell_type": "code",
   "execution_count": 81,
   "metadata": {},
   "outputs": [
    {
     "data": {
      "text/plain": [
       "AttributeDict({'blockHash': HexBytes('0xd7e20448f21e3cebc1cfc119ee07ff2e443a00c3e2179bdba517bcbe3b497271'),\n",
       " 'blockNumber': 1675,\n",
       " 'from': '0x53B30788b6a47261be56a851C22B155cd3b84735',\n",
       " 'gas': 121000,\n",
       " 'gasPrice': 1000000000,\n",
       " 'hash': HexBytes('0xd942d23fe537f8632d585a81c8df175f9c5efd8962d1bed8d7c85e989d729ffa'),\n",
       " 'input': HexBytes('0x'),\n",
       " 'nonce': 2,\n",
       " 'to': '0x06F2542FA3D541f33A7ea33772666dA16Cb2e86a',\n",
       " 'transactionIndex': 0,\n",
       " 'value': 1000000000000000000,\n",
       " 'type': 0,\n",
       " 'v': 40480238,\n",
       " 'r': HexBytes('0x70a92ba765eb04ade3877d490eb0abc3689da4ee2e48a16bc9acb6c5e71611be'),\n",
       " 's': HexBytes('0x0e1c9706fcfd20fca4d8dc0cf9c77fba04fef754a558eaae4c0a9d2b6d3a7583')})"
      ]
     },
     "execution_count": 81,
     "metadata": {},
     "output_type": "execute_result"
    }
   ],
   "source": [
    "# get first (and only) transaction in the previously mined block\n",
    "tx = w3.eth.get_transaction_by_block(blkNumber_after,0)\n",
    "tx "
   ]
  },
  {
   "cell_type": "code",
   "execution_count": 83,
   "metadata": {},
   "outputs": [
    {
     "data": {
      "text/plain": [
       "AttributeDict({'difficulty': 2,\n",
       " 'proofOfAuthorityData': HexBytes('0xd883010a03846765746888676f312e32312e35856c696e7578000000000000004fe6c9143efa2de28974e936479ca732a2e79ae233beaec51d8e1fa3e42c506d352c4ffa9b0b265a814cfc435b2e317cdb6a27070e4634ba7c377485e37d609801'),\n",
       " 'gasLimit': 8000000,\n",
       " 'gasUsed': 21000,\n",
       " 'hash': HexBytes('0xd7e20448f21e3cebc1cfc119ee07ff2e443a00c3e2179bdba517bcbe3b497271'),\n",
       " 'logsBloom': HexBytes('0x00000000000000000000000000000000000000000000000000000000000000000000000000000000000000000000000000000000000000000000000000000000000000000000000000000000000000000000000000000000000000000000000000000000000000000000000000000000000000000000000000000000000000000000000000000000000000000000000000000000000000000000000000000000000000000000000000000000000000000000000000000000000000000000000000000000000000000000000000000000000000000000000000000000000000000000000000000000000000000000000000000000000000000000000000000000'),\n",
       " 'miner': '0x0000000000000000000000000000000000000000',\n",
       " 'mixHash': HexBytes('0x0000000000000000000000000000000000000000000000000000000000000000'),\n",
       " 'nonce': HexBytes('0x0000000000000000'),\n",
       " 'number': 1675,\n",
       " 'parentHash': HexBytes('0x4377aaf1384f38e64dd2e43bd4f1276c1e35866123e94351f0512045dabe7b33'),\n",
       " 'receiptsRoot': HexBytes('0x056b23fbba480696b65fe5a59b8f2148a1299103c4f57df839233af2cf4ca2d2'),\n",
       " 'sha3Uncles': HexBytes('0x1dcc4de8dec75d7aab85b567b6ccd41ad312451b948a7413f0a142fd40d49347'),\n",
       " 'size': 725,\n",
       " 'stateRoot': HexBytes('0x460e6bddd9dd4679866a56ee2a200895884aab7a5d8136455726b906cb92b6b1'),\n",
       " 'timestamp': 1705522692,\n",
       " 'totalDifficulty': 3351,\n",
       " 'transactions': [HexBytes('0xd942d23fe537f8632d585a81c8df175f9c5efd8962d1bed8d7c85e989d729ffa')],\n",
       " 'transactionsRoot': HexBytes('0x96fab7e2f8de94f812fa4f2e9a9971be420a08e572377611233ecdc5aacdefbd'),\n",
       " 'uncles': []})"
      ]
     },
     "execution_count": 83,
     "metadata": {},
     "output_type": "execute_result"
    }
   ],
   "source": [
    "# get block and see the transaction id and gas used below\n",
    "blk = w3.eth.get_block(blkNumber_after)\n",
    "blk"
   ]
  },
  {
   "cell_type": "code",
   "execution_count": 84,
   "metadata": {},
   "outputs": [
    {
     "data": {
      "text/plain": [
       "'0xd942d23fe537f8632d585a81c8df175f9c5efd8962d1bed8d7c85e989d729ffa'"
      ]
     },
     "execution_count": 84,
     "metadata": {},
     "output_type": "execute_result"
    }
   ],
   "source": [
    "# get the transaction ID of the first (and only) transaction in the block\n",
    "blk[\"transactions\"][0].hex()"
   ]
  },
  {
   "cell_type": "code",
   "execution_count": 85,
   "metadata": {},
   "outputs": [
    {
     "data": {
      "text/plain": [
       "'0xd942d23fe537f8632d585a81c8df175f9c5efd8962d1bed8d7c85e989d729ffa'"
      ]
     },
     "execution_count": 85,
     "metadata": {},
     "output_type": "execute_result"
    }
   ],
   "source": [
    "tx[\"hash\"].hex() # hash of the transaction"
   ]
  },
  {
   "cell_type": "code",
   "execution_count": 86,
   "metadata": {},
   "outputs": [
    {
     "data": {
      "text/plain": [
       "AttributeDict({'blockHash': HexBytes('0xd7e20448f21e3cebc1cfc119ee07ff2e443a00c3e2179bdba517bcbe3b497271'),\n",
       " 'blockNumber': 1675,\n",
       " 'from': '0x53B30788b6a47261be56a851C22B155cd3b84735',\n",
       " 'gas': 121000,\n",
       " 'gasPrice': 1000000000,\n",
       " 'hash': HexBytes('0xd942d23fe537f8632d585a81c8df175f9c5efd8962d1bed8d7c85e989d729ffa'),\n",
       " 'input': HexBytes('0x'),\n",
       " 'nonce': 2,\n",
       " 'to': '0x06F2542FA3D541f33A7ea33772666dA16Cb2e86a',\n",
       " 'transactionIndex': 0,\n",
       " 'value': 1000000000000000000,\n",
       " 'type': 0,\n",
       " 'v': 40480238,\n",
       " 'r': HexBytes('0x70a92ba765eb04ade3877d490eb0abc3689da4ee2e48a16bc9acb6c5e71611be'),\n",
       " 's': HexBytes('0x0e1c9706fcfd20fca4d8dc0cf9c77fba04fef754a558eaae4c0a9d2b6d3a7583')})"
      ]
     },
     "execution_count": 86,
     "metadata": {},
     "output_type": "execute_result"
    }
   ],
   "source": [
    "# Query the transaction by ID, also possible\n",
    "w3.eth.get_transaction(blk[\"transactions\"][0].hex())"
   ]
  },
  {
   "cell_type": "code",
   "execution_count": 87,
   "metadata": {},
   "outputs": [
    {
     "data": {
      "text/plain": [
       "21000"
      ]
     },
     "execution_count": 87,
     "metadata": {},
     "output_type": "execute_result"
    }
   ],
   "source": [
    "gasUsed = blk[\"gasUsed\"] # gas used within block\n",
    "gasUsed"
   ]
  },
  {
   "cell_type": "code",
   "execution_count": 88,
   "metadata": {},
   "outputs": [
    {
     "data": {
      "text/plain": [
       "21000"
      ]
     },
     "execution_count": 88,
     "metadata": {},
     "output_type": "execute_result"
    }
   ],
   "source": [
    "# estimate the gas price of an transaction without executing it\n",
    "w3.eth.estimate_gas({'from':w3.eth.accounts[0], \n",
    "                    'to':w3.eth.accounts[1], \n",
    "                    'value':10**18})"
   ]
  },
  {
   "cell_type": "markdown",
   "metadata": {},
   "source": [
    "The estimate yields the same result as the actual gas cost. "
   ]
  },
  {
   "cell_type": "code",
   "execution_count": 89,
   "metadata": {},
   "outputs": [
    {
     "data": {
      "text/plain": [
       "1000000000"
      ]
     },
     "execution_count": 89,
     "metadata": {},
     "output_type": "execute_result"
    }
   ],
   "source": [
    "gasPrice = tx[\"gasPrice\"] # The actual gas price attached to the tx\n",
    "gasPrice"
   ]
  },
  {
   "cell_type": "code",
   "execution_count": 91,
   "metadata": {},
   "outputs": [],
   "source": [
    "# conversion between gas and ether specified per transaction\n",
    "# i.e., how much wei a transaction is willing to pay for \n",
    "assert gasPrice == w3.eth.gas_price # default value"
   ]
  },
  {
   "cell_type": "code",
   "execution_count": 92,
   "metadata": {},
   "outputs": [
    {
     "data": {
      "text/plain": [
       "2.1000000000000002e-05"
      ]
     },
     "execution_count": 92,
     "metadata": {},
     "output_type": "execute_result"
    }
   ],
   "source": [
    "# gasUsed(by the transaction) * gasPrice(specified in tx)\n",
    "# gives the wei it costs to send it \n",
    "# times 10^18 gives the ether\n",
    "tx_costs = (gasUsed * gasPrice) * 10**-18\n",
    "tx_costs "
   ]
  },
  {
   "cell_type": "markdown",
   "metadata": {},
   "source": [
    "The gas accounts for the missing cost on the sender side: "
   ]
  },
  {
   "cell_type": "code",
   "execution_count": null,
   "metadata": {},
   "outputs": [],
   "source": []
  }
 ],
 "metadata": {
  "kernelspec": {
   "display_name": "Python 3 (ipykernel)",
   "language": "python",
   "name": "python3"
  },
  "language_info": {
   "codemirror_mode": {
    "name": "ipython",
    "version": 3
   },
   "file_extension": ".py",
   "mimetype": "text/x-python",
   "name": "python",
   "nbconvert_exporter": "python",
   "pygments_lexer": "ipython3",
   "version": "3.10.12"
  }
 },
 "nbformat": 4,
 "nbformat_minor": 4
}
