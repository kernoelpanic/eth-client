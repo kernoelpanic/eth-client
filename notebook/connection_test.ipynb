{
 "cells": [
  {
   "cell_type": "markdown",
   "metadata": {},
   "source": [
    "# Connection Test"
   ]
  },
  {
   "cell_type": "markdown",
   "metadata": {},
   "source": [
    "This is the connection and account test notebook for the course: \n",
    "* https://ufind.univie.ac.at/en/course.html?lv=052011&semester=2023W\n",
    "* https://ufind.univie.ac.at/en/course.html?lv=052011&semester=2024W"
   ]
  },
  {
   "cell_type": "markdown",
   "metadata": {},
   "source": [
    "## Basic interaction with `geth`"
   ]
  },
  {
   "cell_type": "markdown",
   "metadata": {},
   "source": [
    "The most common client lib to interface with ethereum execution clients (`geth`,`ganache`,...) is **web3**.\n",
    "* [web3.js](https://github.com/ethereum/web3.js/)\n",
    "    - node.js version\n",
    "    - [API](https://web3js.readthedocs.io/)\n",
    "* [web3py](https://github.com/ethereum/web3.py)\n",
    "    - python version\n",
    "    - as I prefer python, we will use this one ;)\n",
    "    - [API](https://web3py.readthedocs.io/)\n",
    "    \n",
    "For the tutorial we will only interact with `geth` which uses his own local development testnet blockchain. \n",
    "* [geth console](https://geth.ethereum.org/docs/interface/javascript-console) has a link to the supported API via the geth console, which should be the \"full\" `web3.js` API.\n",
    "* [geth cli options](https://geth.ethereum.org/docs/interface/command-line-options) only needed when running geth from the command line"
   ]
  },
  {
   "cell_type": "markdown",
   "metadata": {},
   "source": [
    "## Connect to your local geth node (bob)"
   ]
  },
  {
   "cell_type": "markdown",
   "metadata": {},
   "source": [
    "Note that in our case `geth` is running in a private PoA chain setup.\n",
    "Therefore, some configuration parameters are different (see https://web3py.readthedocs.io/en/stable/middleware.html#geth-style-proof-of-authority for more details). "
   ]
  },
  {
   "cell_type": "code",
   "execution_count": 1,
   "metadata": {},
   "outputs": [],
   "source": [
    "import web3\n",
    "#from web3.middleware import geth_poa_middleware\n",
    "from web3.middleware import ExtraDataToPOAMiddleware\n",
    "\n",
    "\n",
    "w3 = web3.Web3(web3.Web3.HTTPProvider(\"http://geth-client-cnt:8545\"))\n",
    "# check if connection was successful\n",
    "assert w3.is_connected()\n",
    "\n",
    "#w3.middleware_onion.inject(geth_poa_middleware, layer=0)\n",
    "w3.middleware_onion.inject(ExtraDataToPOAMiddleware, layer=0)"
   ]
  },
  {
   "cell_type": "code",
   "execution_count": 2,
   "metadata": {},
   "outputs": [
    {
     "data": {
      "text/plain": [
       "AttributeDict({'id': '934d8756c78b549c9e6b082047749387c76cc03266de0fb079b9ace14e5b9edf',\n",
       " 'name': 'Geth/bob/v1.10.3-stable-991384a7/linux-amd64/go1.21.5',\n",
       " 'enode': 'enode://82affa0044f164615645f22d3ff71063ade23aedc87b4ff27fde8c4a395f2da4566277119c3b1bfb6947aa4396304ca11424d8ac731bad78d9f219d11943da87@127.0.0.1:30303?discport=0',\n",
       " 'enr': 'enr:-Ja4QDlwgUHTGOPzxoKtxav-kNe3j7ARS-WrIbZtwfsRf2C5AQpiilvcVQ-nZiilKunDctYV4kx5RIVAGdv871MTNbEBg2V0aMfGhLpYo26AgmlkgnY0gmlwhH8AAAGJc2VjcDI1NmsxoQOCr_oARPFkYVZF8i0_9xBjreI67ch7T_J_3oxKOV8tpIRzbmFwwIN0Y3CCdl8',\n",
       " 'ip': '127.0.0.1',\n",
       " 'ports': AttributeDict({'discovery': 0, 'listener': 30303}),\n",
       " 'listenAddr': '[::]:30303',\n",
       " 'protocols': AttributeDict({'eth': AttributeDict({'network': 20250101,\n",
       "   'difficulty': 1,\n",
       "   'genesis': '0x0ddaabe3a62313c0bb1b3d7f2da96d1752c4ab70d8b18c4e4914c1a439cc2d73',\n",
       "   'config': AttributeDict({'chainId': 20250101,\n",
       "    'homesteadBlock': 0,\n",
       "    'eip150Block': 0,\n",
       "    'eip150Hash': '0x0000000000000000000000000000000000000000000000000000000000000000',\n",
       "    'eip155Block': 0,\n",
       "    'eip158Block': 0,\n",
       "    'byzantiumBlock': 0,\n",
       "    'constantinopleBlock': 0,\n",
       "    'petersburgBlock': 0,\n",
       "    'istanbulBlock': 0,\n",
       "    'berlinBlock': 0,\n",
       "    'clique': AttributeDict({'period': 12, 'epoch': 30000})}),\n",
       "   'head': '0x0ddaabe3a62313c0bb1b3d7f2da96d1752c4ab70d8b18c4e4914c1a439cc2d73'}),\n",
       "  'snap': AttributeDict({})})})"
      ]
     },
     "execution_count": 2,
     "metadata": {},
     "output_type": "execute_result"
    }
   ],
   "source": [
    "w3.geth.admin.node_info()"
   ]
  },
  {
   "cell_type": "code",
   "execution_count": 3,
   "metadata": {},
   "outputs": [
    {
     "data": {
      "text/plain": [
       "'Geth/bob/v1.10.3-stable-991384a7/linux-amd64/go1.21.5'"
      ]
     },
     "execution_count": 3,
     "metadata": {},
     "output_type": "execute_result"
    }
   ],
   "source": [
    "# display the client version of the node we are connected to\n",
    "w3.client_version"
   ]
  },
  {
   "cell_type": "code",
   "execution_count": 4,
   "metadata": {},
   "outputs": [
    {
     "data": {
      "text/plain": [
       "'20250101'"
      ]
     },
     "execution_count": 4,
     "metadata": {},
     "output_type": "execute_result"
    }
   ],
   "source": [
    "# display network ID of client you are connected to\n",
    "w3.net.version"
   ]
  },
  {
   "cell_type": "code",
   "execution_count": 5,
   "metadata": {},
   "outputs": [
    {
     "data": {
      "text/plain": [
       "20250101"
      ]
     },
     "execution_count": 5,
     "metadata": {},
     "output_type": "execute_result"
    }
   ],
   "source": [
    "w3.eth.chain_id"
   ]
  },
  {
   "cell_type": "code",
   "execution_count": 6,
   "metadata": {},
   "outputs": [
    {
     "data": {
      "text/plain": [
       "0"
      ]
     },
     "execution_count": 6,
     "metadata": {},
     "output_type": "execute_result"
    }
   ],
   "source": [
    "# Display number of connected peers should be 1\n",
    "w3.net.peer_count"
   ]
  },
  {
   "cell_type": "code",
   "execution_count": 7,
   "metadata": {},
   "outputs": [
    {
     "data": {
      "text/plain": [
       "False"
      ]
     },
     "execution_count": 7,
     "metadata": {},
     "output_type": "execute_result"
    }
   ],
   "source": [
    "# check if node is \"up-to-date\" with blockchain, \n",
    "# i.e., not syncing anymore\n",
    "w3.eth.syncing"
   ]
  },
  {
   "cell_type": "code",
   "execution_count": 8,
   "metadata": {
    "scrolled": true
   },
   "outputs": [
    {
     "data": {
      "text/plain": [
       "False"
      ]
     },
     "execution_count": 8,
     "metadata": {},
     "output_type": "execute_result"
    }
   ],
   "source": [
    "#w3.eth.mining\n",
    "w3.manager.request_blocking(\"eth_mining\", []) # call directly geth API\n",
    "#w3.eth.is_mining # not yet implemented in this version of web3py"
   ]
  },
  {
   "cell_type": "markdown",
   "metadata": {},
   "source": [
    "## Connect to our geth node (alice) with your geth node (bob)"
   ]
  },
  {
   "cell_type": "markdown",
   "metadata": {},
   "source": [
    "To make this work the wireshark VPN for the secenv needs to be working on your host as usually.\n",
    "In addition you need the `enode` of our geth PoA node. \n",
    "\n",
    "To connect to a geth node a `enode` ulr is required. This contains a public key of this node as well as its domain name (or IP) and prot. "
   ]
  },
  {
   "cell_type": "markdown",
   "metadata": {},
   "source": [
    "*Only informational*: To manually extract the enode from a running geth node (e.g., our server), cat the `nodekey` file which contains the private key and use the `bootnode` tool to generate the associated public key, i.e., enode. (see https://ethereum.stackexchange.com/questions/53086/go-ethereum-get-the-enode-before-starting-geth)\n",
    "\n",
    "```bash\n",
    "$ cat $DATADIR/geth/nodekey\n",
    "$ bootnode -nodekeyhex $(cat $DATADIR/geth/nodekey) -writeaddress\n",
    "```\n",
    "\n",
    "Alternatively, run the following command on the host (Container) where `geth` is running:\n",
    "```bash\n",
    "$ geth attach http://127.0.0.1:8545\n",
    "Welcome to the Geth JavaScript console!\n",
    "\n",
    "instance: Geth/alice/v1.10.3-stable-991384a7/linux-amd64/go1.21.5\n",
    "coinbase: 0xf78342e0cdb2188e3b5c9663b1c6d6d5af68bc97\n",
    "at block: 616 (Fri Dec 20 2024 21:13:58 GMT+0100 (CET))\n",
    " datadir: /app/datadir/alice\n",
    " modules: admin:1.0 clique:1.0 debug:1.0 eth:1.0 miner:1.0 net:1.0 personal:1.0 rpc:1.0 txpool:1.0 web3:1.0\n",
    "\n",
    "To exit, press ctrl-d\n",
    "> admin.nodeInfo\n",
    "{\n",
    "  enode: \"enode://fd90f39e40633934f1613ab08bd4917d3aa28abba28cc4748b544650cfffe1ab40890f4a9d85ca9c0cf28845633291ca06a5716b86f5232b32374b82e2e3cff6@127.0.0.1:30303?discport=0\",\n",
    "  ...\n",
    "```"
   ]
  },
  {
   "cell_type": "markdown",
   "metadata": {},
   "source": [
    "The enode of our server is: "
   ]
  },
  {
   "cell_type": "code",
   "execution_count": 9,
   "metadata": {},
   "outputs": [
    {
     "name": "stdout",
     "output_type": "stream",
     "text": [
      "/smartenv\n"
     ]
    }
   ],
   "source": [
    "!pwd"
   ]
  },
  {
   "cell_type": "code",
   "execution_count": 10,
   "metadata": {},
   "outputs": [
    {
     "name": "stdout",
     "output_type": "stream",
     "text": [
      "enode://fd90f39e40633934f1613ab08bd4917d3aa28abba28cc4748b544650cfffe1ab40890f4a9d85ca9c0cf28845633291ca06a5716b86f5232b32374b82e2e3cff6@eth-smart.secenv:30303?discport=0\n"
     ]
    }
   ],
   "source": [
    "!cat geth/enodes"
   ]
  },
  {
   "cell_type": "code",
   "execution_count": 11,
   "metadata": {},
   "outputs": [],
   "source": [
    "enodes_file = !cat geth/enodes\n",
    "enode = enodes_file[0]"
   ]
  },
  {
   "cell_type": "code",
   "execution_count": 12,
   "metadata": {},
   "outputs": [],
   "source": [
    "assert enode == \"enode://fd90f39e40633934f1613ab08bd4917d3aa28abba28cc4748b544650cfffe1ab40890f4a9d85ca9c0cf28845633291ca06a5716b86f5232b32374b82e2e3cff6@eth-smart.secenv:30303?discport=0\""
   ]
  },
  {
   "cell_type": "markdown",
   "metadata": {},
   "source": [
    "Or replace domain name with IP if DNS & wireguard makes problems:"
   ]
  },
  {
   "cell_type": "code",
   "execution_count": 13,
   "metadata": {},
   "outputs": [
    {
     "name": "stdout",
     "output_type": "stream",
     "text": [
      "PING eth-smart.secenv (10.81.0.38) 56(84) bytes of data.\n",
      "64 bytes from 10.81.0.38 (10.81.0.38): icmp_seq=1 ttl=62 time=2.03 ms\n",
      "\n",
      "--- eth-smart.secenv ping statistics ---\n",
      "1 packets transmitted, 1 received, 0% packet loss, time 0ms\n",
      "rtt min/avg/max/mdev = 2.030/2.030/2.030/0.000 ms\n"
     ]
    }
   ],
   "source": [
    "!ping -c 1 eth-smart.secenv"
   ]
  },
  {
   "cell_type": "code",
   "execution_count": 14,
   "metadata": {},
   "outputs": [],
   "source": [
    "#enode = \"enode://fd90f39e40633934f1613ab08bd4917d3aa28abba28cc4748b544650cfffe1ab40890f4a9d85ca9c0cf28845633291ca06a5716b86f5232b32374b82e2e3cff6@10.81.0.38:30303?discport=0\""
   ]
  },
  {
   "cell_type": "code",
   "execution_count": 15,
   "metadata": {},
   "outputs": [
    {
     "data": {
      "text/plain": [
       "0"
      ]
     },
     "execution_count": 15,
     "metadata": {},
     "output_type": "execute_result"
    }
   ],
   "source": [
    "w3.net.peer_count # peer count before connecting, should be zero"
   ]
  },
  {
   "cell_type": "code",
   "execution_count": 16,
   "metadata": {},
   "outputs": [
    {
     "data": {
      "text/plain": [
       "True"
      ]
     },
     "execution_count": 16,
     "metadata": {},
     "output_type": "execute_result"
    }
   ],
   "source": [
    "w3.geth.admin.add_peer(enode)"
   ]
  },
  {
   "cell_type": "code",
   "execution_count": 17,
   "metadata": {},
   "outputs": [],
   "source": [
    "import time\n",
    "time.sleep(4)"
   ]
  },
  {
   "cell_type": "code",
   "execution_count": 18,
   "metadata": {},
   "outputs": [
    {
     "data": {
      "text/plain": [
       "1"
      ]
     },
     "execution_count": 18,
     "metadata": {},
     "output_type": "execute_result"
    }
   ],
   "source": [
    "w3.net.peer_count # peer count after connecting, should be one"
   ]
  },
  {
   "cell_type": "code",
   "execution_count": 19,
   "metadata": {},
   "outputs": [],
   "source": [
    "# You should be connected to our node now\n",
    "assert w3.net.peer_count >= 1,\"Not connected to our node!\""
   ]
  },
  {
   "cell_type": "code",
   "execution_count": 20,
   "metadata": {},
   "outputs": [
    {
     "data": {
      "text/plain": [
       "[AttributeDict({'enode': 'enode://fd90f39e40633934f1613ab08bd4917d3aa28abba28cc4748b544650cfffe1ab40890f4a9d85ca9c0cf28845633291ca06a5716b86f5232b32374b82e2e3cff6@10.81.0.38:30303?discport=0',\n",
       "  'id': '2af0d687348cffa0a8d8e827abd4e1e5f2c68e4beca2dfaa768856a9dbba522e',\n",
       "  'name': 'Geth/alice/v1.10.3-stable-991384a7/linux-amd64/go1.21.5',\n",
       "  'caps': ['eth/65', 'eth/66', 'snap/1'],\n",
       "  'network': AttributeDict({'localAddress': '172.21.0.4:43174',\n",
       "   'remoteAddress': '10.81.0.38:30303',\n",
       "   'inbound': False,\n",
       "   'trusted': False,\n",
       "   'static': True}),\n",
       "  'protocols': AttributeDict({'eth': AttributeDict({'version': 66,\n",
       "    'difficulty': 167,\n",
       "    'head': '0x89dd008c637851dd03a8a4756f24d2c16417254bb3a9284fc50c7bab9b0b5879'}),\n",
       "   'snap': AttributeDict({'version': 1})})})]"
      ]
     },
     "execution_count": 20,
     "metadata": {},
     "output_type": "execute_result"
    }
   ],
   "source": [
    "# get the information about your peer(s)\n",
    "peers = w3.geth.admin.peers()\n",
    "peers"
   ]
  },
  {
   "cell_type": "code",
   "execution_count": 21,
   "metadata": {},
   "outputs": [],
   "source": [
    "assert \"alice\" in peers[0][\"name\"]"
   ]
  },
  {
   "cell_type": "markdown",
   "metadata": {},
   "source": [
    "At the beginning your node might sync a while till it has reached the tip of the chain.\n",
    "If `w3.eth.syncing` return `False` it is up-to-date"
   ]
  },
  {
   "cell_type": "code",
   "execution_count": 22,
   "metadata": {},
   "outputs": [
    {
     "data": {
      "text/plain": [
       "False"
      ]
     },
     "execution_count": 22,
     "metadata": {},
     "output_type": "execute_result"
    }
   ],
   "source": [
    "w3.eth.syncing"
   ]
  },
  {
   "cell_type": "markdown",
   "metadata": {},
   "source": [
    "## Check state of blockchain "
   ]
  },
  {
   "cell_type": "code",
   "execution_count": 23,
   "metadata": {},
   "outputs": [
    {
     "data": {
      "text/plain": [
       "83"
      ]
     },
     "execution_count": 23,
     "metadata": {},
     "output_type": "execute_result"
    }
   ],
   "source": [
    "# return current blockchain head of node\n",
    "w3.eth.block_number"
   ]
  },
  {
   "cell_type": "code",
   "execution_count": 24,
   "metadata": {},
   "outputs": [
    {
     "data": {
      "text/plain": [
       "85"
      ]
     },
     "execution_count": 24,
     "metadata": {},
     "output_type": "execute_result"
    }
   ],
   "source": [
    "# should be greater\n",
    "!sleep 13\n",
    "w3.eth.block_number"
   ]
  },
  {
   "cell_type": "code",
   "execution_count": 25,
   "metadata": {},
   "outputs": [
    {
     "data": {
      "text/plain": [
       "AttributeDict({'difficulty': 1,\n",
       " 'proofOfAuthorityData': HexBytes('0x0000000000000000000000000000000000000000000000000000000000000000f78342e0cdb2188e3b5c9663b1c6d6d5af68bc970000000000000000000000000000000000000000000000000000000000000000000000000000000000000000000000000000000000000000000000000000000000'),\n",
       " 'gasLimit': 15000000,\n",
       " 'gasUsed': 0,\n",
       " 'hash': HexBytes('0x0ddaabe3a62313c0bb1b3d7f2da96d1752c4ab70d8b18c4e4914c1a439cc2d73'),\n",
       " 'logsBloom': HexBytes('0x00000000000000000000000000000000000000000000000000000000000000000000000000000000000000000000000000000000000000000000000000000000000000000000000000000000000000000000000000000000000000000000000000000000000000000000000000000000000000000000000000000000000000000000000000000000000000000000000000000000000000000000000000000000000000000000000000000000000000000000000000000000000000000000000000000000000000000000000000000000000000000000000000000000000000000000000000000000000000000000000000000000000000000000000000000000'),\n",
       " 'miner': '0x0000000000000000000000000000000000000000',\n",
       " 'mixHash': HexBytes('0x0000000000000000000000000000000000000000000000000000000000000000'),\n",
       " 'nonce': HexBytes('0x0000000000000000'),\n",
       " 'number': 0,\n",
       " 'parentHash': HexBytes('0x0000000000000000000000000000000000000000000000000000000000000000'),\n",
       " 'receiptsRoot': HexBytes('0x56e81f171bcc55a6ff8345e692c0f86e5b48e01b996cadc001622fb5e363b421'),\n",
       " 'sha3Uncles': HexBytes('0x1dcc4de8dec75d7aab85b567b6ccd41ad312451b948a7413f0a142fd40d49347'),\n",
       " 'size': 626,\n",
       " 'stateRoot': HexBytes('0x722a93bfdc34bd72e4f0177428465c1fc9fee96a41808689e63556f84508bfd5'),\n",
       " 'timestamp': 1735686000,\n",
       " 'totalDifficulty': 1,\n",
       " 'transactions': [],\n",
       " 'transactionsRoot': HexBytes('0x56e81f171bcc55a6ff8345e692c0f86e5b48e01b996cadc001622fb5e363b421'),\n",
       " 'uncles': []})"
      ]
     },
     "execution_count": 25,
     "metadata": {},
     "output_type": "execute_result"
    }
   ],
   "source": [
    "# block 0 ist the genesis block of this testnet blockchain\n",
    "genesis_block = w3.eth.get_block(0)\n",
    "genesis_block"
   ]
  },
  {
   "cell_type": "markdown",
   "metadata": {},
   "source": [
    "As you see, the genesis block is special as it is the only block with no parent hash:"
   ]
  },
  {
   "cell_type": "code",
   "execution_count": 26,
   "metadata": {},
   "outputs": [
    {
     "data": {
      "text/plain": [
       "0"
      ]
     },
     "execution_count": 26,
     "metadata": {},
     "output_type": "execute_result"
    }
   ],
   "source": [
    "genesis_block['number']"
   ]
  },
  {
   "cell_type": "code",
   "execution_count": 27,
   "metadata": {},
   "outputs": [
    {
     "data": {
      "text/plain": [
       "HexBytes('0x0000000000000000000000000000000000000000000000000000000000000000')"
      ]
     },
     "execution_count": 27,
     "metadata": {},
     "output_type": "execute_result"
    }
   ],
   "source": [
    "genesis_block['parentHash']"
   ]
  },
  {
   "cell_type": "markdown",
   "metadata": {},
   "source": [
    "The [genesis.json](../geth/genesis.json) file shows the node(s) that are allowed to mine blocks and the accounts that have been seeded with coins. \n",
    "The client we are currently connected to is not part of the PoA nodes that are allowed to create new blocks:"
   ]
  },
  {
   "cell_type": "code",
   "execution_count": 28,
   "metadata": {},
   "outputs": [],
   "source": [
    "#assert genesis_block['hash'].hex() == '6bec1279ca6efde179db76897011152e3b1d4c89f11298b501a501511fa016b8'"
   ]
  },
  {
   "cell_type": "code",
   "execution_count": 28,
   "metadata": {},
   "outputs": [],
   "source": [
    "assert genesis_block['hash'].hex() == '0ddaabe3a62313c0bb1b3d7f2da96d1752c4ab70d8b18c4e4914c1a439cc2d73'"
   ]
  },
  {
   "cell_type": "markdown",
   "metadata": {},
   "source": [
    "## Import your personal key"
   ]
  },
  {
   "cell_type": "markdown",
   "metadata": {},
   "source": [
    "Connect to `nc eth-smart.secenv 4242` and collect you personal private key for your account to interact with your personalized smart contracts. "
   ]
  },
  {
   "cell_type": "code",
   "execution_count": 29,
   "metadata": {},
   "outputs": [
    {
     "name": "stdout",
     "output_type": "stream",
     "text": [
      "\n",
      "Ethereum challenge helper\n",
      "Hello, here you get your personal private key:\n",
      "1. Option 1: Get Key\n",
      "2. Option 2: Get Key json\n",
      "3. Option 3: Get personal contract addressed\n",
      "4. Option 4: Grade me/get Flag\n",
      "5. Option 5: Exit\n",
      "Your personal private key:\n"
     ]
    }
   ],
   "source": [
    "!printf '1\\r\\n' | nc -w 10 -q 10 eth-smart.secenv 4242 | head -n 9"
   ]
  },
  {
   "cell_type": "markdown",
   "metadata": {},
   "source": [
    "Initially there are no accounts if you havend stored your json key in the `keystore` folder yet:"
   ]
  },
  {
   "cell_type": "code",
   "execution_count": 31,
   "metadata": {},
   "outputs": [],
   "source": [
    "!ls /keystore"
   ]
  },
  {
   "cell_type": "code",
   "execution_count": 32,
   "metadata": {},
   "outputs": [
    {
     "data": {
      "text/plain": [
       "[]"
      ]
     },
     "execution_count": 32,
     "metadata": {},
     "output_type": "execute_result"
    }
   ],
   "source": [
    "w3.eth.accounts"
   ]
  },
  {
   "cell_type": "markdown",
   "metadata": {},
   "source": [
    "You can get your key from our terminal server application at `eth-smart.secenv` running at port `4242`"
   ]
  },
  {
   "cell_type": "code",
   "execution_count": 33,
   "metadata": {},
   "outputs": [],
   "source": [
    "my_private_key = !printf \"1\\r\\n\" | nc -W 3 eth-smart.secenv 4242 | tail -n1"
   ]
  },
  {
   "cell_type": "code",
   "execution_count": 34,
   "metadata": {},
   "outputs": [],
   "source": [
    "account = w3.eth.account.from_key(my_private_key[0])"
   ]
  },
  {
   "cell_type": "code",
   "execution_count": 35,
   "metadata": {},
   "outputs": [
    {
     "data": {
      "text/plain": [
       "'0x53B30788b6a47261be56a851C22B155cd3b84735'"
      ]
     },
     "execution_count": 35,
     "metadata": {},
     "output_type": "execute_result"
    }
   ],
   "source": [
    "account.address"
   ]
  },
  {
   "cell_type": "markdown",
   "metadata": {},
   "source": [
    "By providing a password, you can gerate a keystore file from this account `account.encrypt(\"password\")` which you can write to disk."
   ]
  },
  {
   "cell_type": "code",
   "execution_count": 36,
   "metadata": {},
   "outputs": [
    {
     "name": "stdout",
     "output_type": "stream",
     "text": [
      "writing to UTC--2024-12-20T23-42-04.050655Z--53B30788b6a47261be56a851C22B155cd3b84735 ...\n"
     ]
    }
   ],
   "source": [
    "import util\n",
    "util.write_keystore_file(\"/keystore/\",account.encrypt(\"password\"))"
   ]
  },
  {
   "cell_type": "code",
   "execution_count": 41,
   "metadata": {},
   "outputs": [],
   "source": [
    "import time\n",
    "time.sleep(4)"
   ]
  },
  {
   "cell_type": "code",
   "execution_count": 42,
   "metadata": {},
   "outputs": [
    {
     "data": {
      "text/plain": [
       "['0x53B30788b6a47261be56a851C22B155cd3b84735']"
      ]
     },
     "execution_count": 42,
     "metadata": {},
     "output_type": "execute_result"
    }
   ],
   "source": [
    "w3.eth.accounts"
   ]
  },
  {
   "cell_type": "code",
   "execution_count": 43,
   "metadata": {},
   "outputs": [
    {
     "data": {
      "text/plain": [
       "'0x53B30788b6a47261be56a851C22B155cd3b84735'"
      ]
     },
     "execution_count": 43,
     "metadata": {},
     "output_type": "execute_result"
    }
   ],
   "source": [
    "# you should set this account as default account so that it is used\n",
    "# by all functions requireing access\n",
    "w3.eth.default_account = w3.eth.accounts[0]\n",
    "w3.eth.default_account "
   ]
  },
  {
   "cell_type": "markdown",
   "metadata": {},
   "source": [
    "To use/access an account, e.g., for making a transaction you need to unlock it first by providing its password and a time in seconds for how long this account should be unlocked (0 means without limit)."
   ]
  },
  {
   "cell_type": "code",
   "execution_count": 50,
   "metadata": {},
   "outputs": [],
   "source": [
    "#w3.geth.personal.unlock_account(w3.eth.accounts[0],\"password\",0)"
   ]
  }
 ],
 "metadata": {
  "kernelspec": {
   "display_name": "Python 3 (ipykernel)",
   "language": "python",
   "name": "python3"
  },
  "language_info": {
   "codemirror_mode": {
    "name": "ipython",
    "version": 3
   },
   "file_extension": ".py",
   "mimetype": "text/x-python",
   "name": "python",
   "nbconvert_exporter": "python",
   "pygments_lexer": "ipython3",
   "version": "3.10.12"
  }
 },
 "nbformat": 4,
 "nbformat_minor": 4
}
