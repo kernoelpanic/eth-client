{
 "cells": [
  {
   "cell_type": "markdown",
   "metadata": {},
   "source": [
    "# Connection Test"
   ]
  },
  {
   "cell_type": "markdown",
   "metadata": {},
   "source": [
    "This is the connection and account test notebook for the course: \n",
    "* https://ufind.univie.ac.at/en/course.html?lv=052011&semester=2023W\n",
    "* https://ufind.univie.ac.at/en/course.html?lv=052011&semester=2024W"
   ]
  },
  {
   "cell_type": "markdown",
   "metadata": {},
   "source": [
    "## Basic interaction with `geth`"
   ]
  },
  {
   "cell_type": "markdown",
   "metadata": {},
   "source": [
    "The most common client lib to interface with ethereum execution clients (`geth`,`ganache`,...) is **web3**.\n",
    "* [web3.js](https://github.com/ethereum/web3.js/)\n",
    "    - node.js version\n",
    "    - [API](https://web3js.readthedocs.io/)\n",
    "* [web3py](https://github.com/ethereum/web3.py)\n",
    "    - python version\n",
    "    - as I prefer python, we will use this one ;)\n",
    "    - [API](https://web3py.readthedocs.io/)\n",
    "    \n",
    "For the tutorial we will only interact with `geth` which uses his own local development testnet blockchain. \n",
    "* [geth console](https://geth.ethereum.org/docs/interface/javascript-console) has a link to the supported API via the geth console, which should be the \"full\" `web3.js` API.\n",
    "* [geth cli options](https://geth.ethereum.org/docs/interface/command-line-options) only needed when running geth from the command line"
   ]
  },
  {
   "cell_type": "markdown",
   "metadata": {},
   "source": [
    "## Connect to your local geth node (bob)"
   ]
  },
  {
   "cell_type": "markdown",
   "metadata": {},
   "source": [
    "Note that in our case `geth` is running in a private PoA chain setup.\n",
    "Therefore, some configuration parameters are different (see https://web3py.readthedocs.io/en/stable/middleware.html#geth-style-proof-of-authority for more details). "
   ]
  },
  {
   "cell_type": "code",
   "execution_count": 2,
   "metadata": {},
   "outputs": [],
   "source": [
    "import web3\n",
    "#from web3.middleware import geth_poa_middleware\n",
    "from web3.middleware import ExtraDataToPOAMiddleware\n",
    "\n",
    "\n",
    "w3 = web3.Web3(web3.Web3.HTTPProvider(\"http://geth-client-cnt:8545\"))\n",
    "# check if connection was successful\n",
    "assert w3.is_connected()\n",
    "\n",
    "#w3.middleware_onion.inject(geth_poa_middleware, layer=0)\n",
    "w3.middleware_onion.inject(ExtraDataToPOAMiddleware, layer=0)"
   ]
  },
  {
   "cell_type": "code",
   "execution_count": 3,
   "metadata": {},
   "outputs": [
    {
     "data": {
      "text/plain": [
       "AttributeDict({'id': 'db832982d0c930004ca7ffb9de82edc6ef126b6de2ab6d5f6dd366b21b22133c',\n",
       " 'name': 'Geth/bob/v1.10.3-stable-991384a7/linux-amd64/go1.21.5',\n",
       " 'enode': 'enode://013b8e961926389536c0a9ee90cc70a9884a04ca050f314e1a8877f177a96c8ebac0efb50313633b63a2909ad10cd2c4e0c7db6828f51feeb4ac059ac5ee9ad5@127.0.0.1:30303?discport=0',\n",
       " 'enr': 'enr:-Ja4QNC7hC2mHS_spgnjFnh3-ejZ30GIt4HZe1bPJ8ZcNH5QPSqxm_DLJxYrArykC09rN0jGFlQnbkehYgUuTyyRS4gCg2V0aMfGhL8tJ2SAgmlkgnY0gmlwhH8AAAGJc2VjcDI1NmsxoQMBO46WGSY4lTbAqe6QzHCpiEoEygUPMU4aiHfxd6lsjoRzbmFwwIN0Y3CCdl8',\n",
       " 'ip': '127.0.0.1',\n",
       " 'ports': AttributeDict({'discovery': 0, 'listener': 30303}),\n",
       " 'listenAddr': '[::]:30303',\n",
       " 'protocols': AttributeDict({'eth': AttributeDict({'network': 20240101,\n",
       "   'difficulty': 1,\n",
       "   'genesis': '0x6bec1279ca6efde179db76897011152e3b1d4c89f11298b501a501511fa016b8',\n",
       "   'config': AttributeDict({'chainId': 20240101,\n",
       "    'homesteadBlock': 0,\n",
       "    'eip150Block': 0,\n",
       "    'eip150Hash': '0x0000000000000000000000000000000000000000000000000000000000000000',\n",
       "    'eip155Block': 0,\n",
       "    'eip158Block': 0,\n",
       "    'byzantiumBlock': 0,\n",
       "    'constantinopleBlock': 0,\n",
       "    'petersburgBlock': 0,\n",
       "    'istanbulBlock': 0,\n",
       "    'berlinBlock': 0,\n",
       "    'clique': AttributeDict({'period': 12, 'epoch': 30000})}),\n",
       "   'head': '0x6bec1279ca6efde179db76897011152e3b1d4c89f11298b501a501511fa016b8'}),\n",
       "  'snap': AttributeDict({})})})"
      ]
     },
     "execution_count": 3,
     "metadata": {},
     "output_type": "execute_result"
    }
   ],
   "source": [
    "w3.geth.admin.node_info()"
   ]
  },
  {
   "cell_type": "code",
   "execution_count": 4,
   "metadata": {},
   "outputs": [
    {
     "data": {
      "text/plain": [
       "'Geth/bob/v1.10.3-stable-991384a7/linux-amd64/go1.21.5'"
      ]
     },
     "execution_count": 4,
     "metadata": {},
     "output_type": "execute_result"
    }
   ],
   "source": [
    "# display the client version of the node we are connected to\n",
    "w3.client_version"
   ]
  },
  {
   "cell_type": "code",
   "execution_count": 5,
   "metadata": {},
   "outputs": [
    {
     "data": {
      "text/plain": [
       "'20240101'"
      ]
     },
     "execution_count": 5,
     "metadata": {},
     "output_type": "execute_result"
    }
   ],
   "source": [
    "# display network ID of client you are connected to\n",
    "w3.net.version"
   ]
  },
  {
   "cell_type": "code",
   "execution_count": 6,
   "metadata": {},
   "outputs": [
    {
     "data": {
      "text/plain": [
       "20240101"
      ]
     },
     "execution_count": 6,
     "metadata": {},
     "output_type": "execute_result"
    }
   ],
   "source": [
    "w3.eth.chain_id"
   ]
  },
  {
   "cell_type": "code",
   "execution_count": 7,
   "metadata": {},
   "outputs": [
    {
     "data": {
      "text/plain": [
       "0"
      ]
     },
     "execution_count": 7,
     "metadata": {},
     "output_type": "execute_result"
    }
   ],
   "source": [
    "# Display number of connected peers should be 1\n",
    "w3.net.peer_count"
   ]
  },
  {
   "cell_type": "code",
   "execution_count": 8,
   "metadata": {},
   "outputs": [
    {
     "data": {
      "text/plain": [
       "False"
      ]
     },
     "execution_count": 8,
     "metadata": {},
     "output_type": "execute_result"
    }
   ],
   "source": [
    "# check if node is \"up-to-date\" with blockchain, \n",
    "# i.e., not syncing anymore\n",
    "w3.eth.syncing"
   ]
  },
  {
   "cell_type": "code",
   "execution_count": 17,
   "metadata": {
    "scrolled": true
   },
   "outputs": [
    {
     "data": {
      "text/plain": [
       "False"
      ]
     },
     "execution_count": 17,
     "metadata": {},
     "output_type": "execute_result"
    }
   ],
   "source": [
    "#w3.eth.mining\n",
    "w3.manager.request_blocking(\"eth_mining\", []) # call directly geth API\n",
    "#w3.eth.is_mining # not yet implemented in this version of web3py"
   ]
  },
  {
   "cell_type": "markdown",
   "metadata": {},
   "source": [
    "## Connect to our geth node (alice) with your geth node (bob)"
   ]
  },
  {
   "cell_type": "markdown",
   "metadata": {},
   "source": [
    "To make this work the wireshark VPN for the secenv needs to be working on your host as usually.\n",
    "In addition you need the `enode` of our geth PoA node. \n",
    "\n",
    "To connect to a geth node a `enode` ulr is required. This contains a public key of this node as well as its domain name (or IP) and prot. "
   ]
  },
  {
   "cell_type": "markdown",
   "metadata": {
    "jupyter": {
     "source_hidden": true
    }
   },
   "source": [
    "*Only informational*: To manually extract the enode from a running geth node (e.g., our server), cat the `nodekey` file which contains the private key and use the `bootnode` tool to generate the associated public key, i.e., enode. (see https://ethereum.stackexchange.com/questions/53086/go-ethereum-get-the-enode-before-starting-geth)\n",
    "\n",
    "```bash\n",
    "$ cat $DATADIR/geth/nodekey\n",
    "$ bootnode -nodekeyhex $(cat $DATADIR/geth/nodekey) -writeaddress\n",
    "```"
   ]
  },
  {
   "cell_type": "markdown",
   "metadata": {},
   "source": [
    "The enode of our server is: "
   ]
  },
  {
   "cell_type": "code",
   "execution_count": 51,
   "metadata": {},
   "outputs": [
    {
     "name": "stdout",
     "output_type": "stream",
     "text": [
      "/smartenv\n"
     ]
    }
   ],
   "source": [
    "!pwd"
   ]
  },
  {
   "cell_type": "code",
   "execution_count": 52,
   "metadata": {},
   "outputs": [
    {
     "name": "stdout",
     "output_type": "stream",
     "text": [
      "enode://fd90f39e40633934f1613ab08bd4917d3aa28abba28cc4748b544650cfffe1ab40890f4a9d85ca9c0cf28845633291ca06a5716b86f5232b32374b82e2e3cff6@eth-smart.secenv:30303?discport=0\n"
     ]
    }
   ],
   "source": [
    "!cat geth/enodes"
   ]
  },
  {
   "cell_type": "code",
   "execution_count": 53,
   "metadata": {},
   "outputs": [],
   "source": [
    "enodes_file = !cat geth/enodes\n",
    "enode = enodes_file[0]"
   ]
  },
  {
   "cell_type": "code",
   "execution_count": 54,
   "metadata": {},
   "outputs": [],
   "source": [
    "assert enode == \"enode://fd90f39e40633934f1613ab08bd4917d3aa28abba28cc4748b544650cfffe1ab40890f4a9d85ca9c0cf28845633291ca06a5716b86f5232b32374b82e2e3cff6@eth-smart.secenv:30303?discport=0\""
   ]
  },
  {
   "cell_type": "code",
   "execution_count": 55,
   "metadata": {},
   "outputs": [],
   "source": [
    "# or replace domain with IP if DNS & wireguard makes problems:\n",
    "#enode = \"enode://fd90f39e40633934f1613ab08bd4917d3aa28abba28cc4748b544650cfffe1ab40890f4a9d85ca9c0cf28845633291ca06a5716b86f5232b32374b82e2e3cff6@10.81.0.38:30303?discport=0\""
   ]
  },
  {
   "cell_type": "code",
   "execution_count": 56,
   "metadata": {},
   "outputs": [
    {
     "data": {
      "text/plain": [
       "True"
      ]
     },
     "execution_count": 56,
     "metadata": {},
     "output_type": "execute_result"
    }
   ],
   "source": [
    "w3.geth.admin.add_peer(enode)"
   ]
  },
  {
   "cell_type": "code",
   "execution_count": 57,
   "metadata": {},
   "outputs": [
    {
     "data": {
      "text/plain": [
       "1"
      ]
     },
     "execution_count": 57,
     "metadata": {},
     "output_type": "execute_result"
    }
   ],
   "source": [
    "w3.net.peer_count"
   ]
  },
  {
   "cell_type": "code",
   "execution_count": 70,
   "metadata": {},
   "outputs": [],
   "source": [
    "# You should be connected to our node now\n",
    "assert w3.net.peer_count >= 1,\"Not connected to our node!\""
   ]
  },
  {
   "cell_type": "code",
   "execution_count": 72,
   "metadata": {},
   "outputs": [
    {
     "data": {
      "text/plain": [
       "[AttributeDict({'enode': 'enode://fd90f39e40633934f1613ab08bd4917d3aa28abba28cc4748b544650cfffe1ab40890f4a9d85ca9c0cf28845633291ca06a5716b86f5232b32374b82e2e3cff6@10.81.0.38:30303?discport=0',\n",
       "  'id': '2af0d687348cffa0a8d8e827abd4e1e5f2c68e4beca2dfaa768856a9dbba522e',\n",
       "  'name': 'Geth/alice/v1.10.3-stable-991384a7/linux-amd64/go1.21.5',\n",
       "  'caps': ['eth/65', 'eth/66', 'snap/1'],\n",
       "  'network': AttributeDict({'localAddress': '172.22.0.4:36870',\n",
       "   'remoteAddress': '10.81.0.38:30303',\n",
       "   'inbound': False,\n",
       "   'trusted': False,\n",
       "   'static': True}),\n",
       "  'protocols': AttributeDict({'eth': AttributeDict({'version': 66,\n",
       "    'difficulty': 1283,\n",
       "    'head': '0x7e01a37274e76d842394e10d12fb8058ecdf403fdd0af4a8093a85cbec1ac21d'}),\n",
       "   'snap': AttributeDict({'version': 1})})})]"
      ]
     },
     "execution_count": 72,
     "metadata": {},
     "output_type": "execute_result"
    }
   ],
   "source": [
    "# get the information about your peer(s)\n",
    "peers = w3.geth.admin.peers()\n",
    "peers"
   ]
  },
  {
   "cell_type": "code",
   "execution_count": 73,
   "metadata": {},
   "outputs": [],
   "source": [
    "assert \"alice\" in peers[0][\"name\"]"
   ]
  },
  {
   "cell_type": "markdown",
   "metadata": {},
   "source": [
    "At the beginning your node might sync a while till it has reached the tip of the chain.\n",
    "If `w3.eth.syncing` return `False` it is up-to-date"
   ]
  },
  {
   "cell_type": "code",
   "execution_count": 59,
   "metadata": {},
   "outputs": [
    {
     "data": {
      "text/plain": [
       "False"
      ]
     },
     "execution_count": 59,
     "metadata": {},
     "output_type": "execute_result"
    }
   ],
   "source": [
    "w3.eth.syncing"
   ]
  },
  {
   "cell_type": "markdown",
   "metadata": {},
   "source": [
    "## Check state of blockchain "
   ]
  },
  {
   "cell_type": "code",
   "execution_count": 60,
   "metadata": {},
   "outputs": [
    {
     "data": {
      "text/plain": [
       "465"
      ]
     },
     "execution_count": 60,
     "metadata": {},
     "output_type": "execute_result"
    }
   ],
   "source": [
    "# return current blockchain head of node\n",
    "w3.eth.block_number"
   ]
  },
  {
   "cell_type": "code",
   "execution_count": 61,
   "metadata": {},
   "outputs": [
    {
     "data": {
      "text/plain": [
       "466"
      ]
     },
     "execution_count": 61,
     "metadata": {},
     "output_type": "execute_result"
    }
   ],
   "source": [
    "# should be greater\n",
    "!sleep 13\n",
    "w3.eth.block_number"
   ]
  },
  {
   "cell_type": "code",
   "execution_count": 62,
   "metadata": {},
   "outputs": [
    {
     "data": {
      "text/plain": [
       "AttributeDict({'difficulty': 1,\n",
       " 'proofOfAuthorityData': HexBytes('0x0000000000000000000000000000000000000000000000000000000000000000f78342e0cdb2188e3b5c9663b1c6d6d5af68bc970000000000000000000000000000000000000000000000000000000000000000000000000000000000000000000000000000000000000000000000000000000000'),\n",
       " 'gasLimit': 15000000,\n",
       " 'gasUsed': 0,\n",
       " 'hash': HexBytes('0x6bec1279ca6efde179db76897011152e3b1d4c89f11298b501a501511fa016b8'),\n",
       " 'logsBloom': HexBytes('0x00000000000000000000000000000000000000000000000000000000000000000000000000000000000000000000000000000000000000000000000000000000000000000000000000000000000000000000000000000000000000000000000000000000000000000000000000000000000000000000000000000000000000000000000000000000000000000000000000000000000000000000000000000000000000000000000000000000000000000000000000000000000000000000000000000000000000000000000000000000000000000000000000000000000000000000000000000000000000000000000000000000000000000000000000000000'),\n",
       " 'miner': '0x0000000000000000000000000000000000000000',\n",
       " 'mixHash': HexBytes('0x0000000000000000000000000000000000000000000000000000000000000000'),\n",
       " 'nonce': HexBytes('0x0000000000000000'),\n",
       " 'number': 0,\n",
       " 'parentHash': HexBytes('0x0000000000000000000000000000000000000000000000000000000000000000'),\n",
       " 'receiptsRoot': HexBytes('0x56e81f171bcc55a6ff8345e692c0f86e5b48e01b996cadc001622fb5e363b421'),\n",
       " 'sha3Uncles': HexBytes('0x1dcc4de8dec75d7aab85b567b6ccd41ad312451b948a7413f0a142fd40d49347'),\n",
       " 'size': 626,\n",
       " 'stateRoot': HexBytes('0x722a93bfdc34bd72e4f0177428465c1fc9fee96a41808689e63556f84508bfd5'),\n",
       " 'timestamp': 1582023590,\n",
       " 'totalDifficulty': 1,\n",
       " 'transactions': [],\n",
       " 'transactionsRoot': HexBytes('0x56e81f171bcc55a6ff8345e692c0f86e5b48e01b996cadc001622fb5e363b421'),\n",
       " 'uncles': []})"
      ]
     },
     "execution_count": 62,
     "metadata": {},
     "output_type": "execute_result"
    }
   ],
   "source": [
    "# block 0 ist the genesis block of this testnet blockchain\n",
    "genesis_block = w3.eth.get_block(0)\n",
    "genesis_block"
   ]
  },
  {
   "cell_type": "markdown",
   "metadata": {},
   "source": [
    "As you see, the genesis block is special as it is the only block with no parent hash:"
   ]
  },
  {
   "cell_type": "code",
   "execution_count": 63,
   "metadata": {},
   "outputs": [
    {
     "data": {
      "text/plain": [
       "0"
      ]
     },
     "execution_count": 63,
     "metadata": {},
     "output_type": "execute_result"
    }
   ],
   "source": [
    "genesis_block['number']"
   ]
  },
  {
   "cell_type": "code",
   "execution_count": 64,
   "metadata": {},
   "outputs": [
    {
     "data": {
      "text/plain": [
       "HexBytes('0x0000000000000000000000000000000000000000000000000000000000000000')"
      ]
     },
     "execution_count": 64,
     "metadata": {},
     "output_type": "execute_result"
    }
   ],
   "source": [
    "genesis_block['parentHash']"
   ]
  },
  {
   "cell_type": "markdown",
   "metadata": {},
   "source": [
    "The [genesis.json](../geth/genesis.json) file shows the node(s) that are allowed to mine blocks and the accounts that have been seeded with coins. \n",
    "The client we are currently connected to is not part of the PoA nodes that are allowed to create new blocks:"
   ]
  },
  {
   "cell_type": "code",
   "execution_count": 66,
   "metadata": {},
   "outputs": [],
   "source": [
    "assert genesis_block['hash'].hex() == '0x6bec1279ca6efde179db76897011152e3b1d4c89f11298b501a501511fa016b8'"
   ]
  },
  {
   "cell_type": "markdown",
   "metadata": {},
   "source": [
    "## Import your personal key"
   ]
  },
  {
   "cell_type": "markdown",
   "metadata": {},
   "source": [
    "Initially there are no accounts if you havend stored your json key in the `keystore` folder yet:"
   ]
  },
  {
   "cell_type": "code",
   "execution_count": 86,
   "metadata": {},
   "outputs": [],
   "source": [
    "!ls /keystore"
   ]
  },
  {
   "cell_type": "code",
   "execution_count": 83,
   "metadata": {},
   "outputs": [
    {
     "data": {
      "text/plain": [
       "[]"
      ]
     },
     "execution_count": 83,
     "metadata": {},
     "output_type": "execute_result"
    }
   ],
   "source": [
    "w3.eth.accounts"
   ]
  },
  {
   "cell_type": "markdown",
   "metadata": {},
   "source": [
    "You can get your key from our terminal server application at `eth-smart.secenv` running at port `4242`"
   ]
  },
  {
   "cell_type": "code",
   "execution_count": 87,
   "metadata": {},
   "outputs": [],
   "source": [
    "my_private_key = !echo \"1\" | nc -W 3 eth-smart.secenv 4242 | tail -n1"
   ]
  },
  {
   "cell_type": "code",
   "execution_count": 88,
   "metadata": {},
   "outputs": [],
   "source": [
    "account = w3.eth.account.from_key(my_private_key[0])"
   ]
  },
  {
   "cell_type": "code",
   "execution_count": 90,
   "metadata": {},
   "outputs": [
    {
     "data": {
      "text/plain": [
       "'0x53B30788b6a47261be56a851C22B155cd3b84735'"
      ]
     },
     "execution_count": 90,
     "metadata": {},
     "output_type": "execute_result"
    }
   ],
   "source": [
    "account.address"
   ]
  },
  {
   "cell_type": "markdown",
   "metadata": {},
   "source": [
    "By providing a password, you can gerate a keystore file from this account `account.encrypt(\"password\")` which you can write to disk."
   ]
  },
  {
   "cell_type": "code",
   "execution_count": 94,
   "metadata": {},
   "outputs": [
    {
     "name": "stdout",
     "output_type": "stream",
     "text": [
      "writing to UTC--2024-01-17T17-06-29.575108Z--53B30788b6a47261be56a851C22B155cd3b84735 ...\n"
     ]
    }
   ],
   "source": [
    "import util\n",
    "util.write_keystore_file(\"/keystore/\",account.encrypt(\"password\"))"
   ]
  },
  {
   "cell_type": "code",
   "execution_count": 95,
   "metadata": {},
   "outputs": [
    {
     "data": {
      "text/plain": [
       "['0x53B30788b6a47261be56a851C22B155cd3b84735']"
      ]
     },
     "execution_count": 95,
     "metadata": {},
     "output_type": "execute_result"
    }
   ],
   "source": [
    "w3.eth.accounts"
   ]
  },
  {
   "cell_type": "code",
   "execution_count": 96,
   "metadata": {},
   "outputs": [
    {
     "data": {
      "text/plain": [
       "'0x53B30788b6a47261be56a851C22B155cd3b84735'"
      ]
     },
     "execution_count": 96,
     "metadata": {},
     "output_type": "execute_result"
    }
   ],
   "source": [
    "# you should set this account as default account so that it is used\n",
    "# by all functions requireing access\n",
    "w3.eth.default_account = w3.eth.accounts[0]\n",
    "w3.eth.default_account "
   ]
  },
  {
   "cell_type": "markdown",
   "metadata": {},
   "source": [
    "To use/access an account, e.g., for making a transaction you need to unlock it first by providing its password and a time in seconds for how long this account should be unlocked (0 means without limit)."
   ]
  },
  {
   "cell_type": "code",
   "execution_count": 99,
   "metadata": {},
   "outputs": [
    {
     "data": {
      "text/plain": [
       "True"
      ]
     },
     "execution_count": 99,
     "metadata": {},
     "output_type": "execute_result"
    }
   ],
   "source": [
    "w3.geth.personal.unlock_account(w3.eth.accounts[0],\"password\",0)"
   ]
  },
  {
   "cell_type": "code",
   "execution_count": null,
   "metadata": {},
   "outputs": [],
   "source": []
  }
 ],
 "metadata": {
  "kernelspec": {
   "display_name": "Python 3 (ipykernel)",
   "language": "python",
   "name": "python3"
  },
  "language_info": {
   "codemirror_mode": {
    "name": "ipython",
    "version": 3
   },
   "file_extension": ".py",
   "mimetype": "text/x-python",
   "name": "python",
   "nbconvert_exporter": "python",
   "pygments_lexer": "ipython3",
   "version": "3.10.12"
  }
 },
 "nbformat": 4,
 "nbformat_minor": 4
}
